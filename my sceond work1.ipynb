{
  "nbformat": 4,
  "nbformat_minor": 0,
  "metadata": {
    "colab": {
      "provenance": []
    },
    "kernelspec": {
      "name": "python3",
      "display_name": "Python 3"
    },
    "language_info": {
      "name": "python"
    }
  },
  "cells": [
    {
      "cell_type": "code",
      "execution_count": 1,
      "metadata": {
        "colab": {
          "base_uri": "https://localhost:8080/"
        },
        "id": "wsc6AJoni6wY",
        "outputId": "696ba5b6-1452-4036-a0e2-653ee64c0e14"
      },
      "outputs": [
        {
          "output_type": "stream",
          "name": "stdout",
          "text": [
            "the passager had survied\n"
          ]
        }
      ],
      "source": [
        "age= 40\n",
        "if age > 20 :\n",
        "  print('the passager had survied')\n",
        "elif age == 18:\n",
        "  print('the passager has equal chances to survie')\n",
        "else :\n",
        "  print('we need more informations to make a decision')"
      ]
    },
    {
      "cell_type": "code",
      "source": [
        "age= input('your age is ')\n",
        "name= input('your name is ')\n",
        "location= input(' your location is ')\n"
      ],
      "metadata": {
        "colab": {
          "base_uri": "https://localhost:8080/"
        },
        "id": "KFzSmzKekBlb",
        "outputId": "3b4b3ab7-0f6b-43a3-f39b-93ce4f891200"
      },
      "execution_count": 4,
      "outputs": [
        {
          "name": "stdout",
          "output_type": "stream",
          "text": [
            "your age is 25\n",
            "your name is emmanuel\n",
            " your location is lagos\n"
          ]
        }
      ]
    },
    {
      "cell_type": "code",
      "source": [],
      "metadata": {
        "id": "awMrSfSY3UTM"
      },
      "execution_count": null,
      "outputs": []
    }
  ]
}