{
 "cells": [
  {
   "cell_type": "markdown",
   "id": "29fae598",
   "metadata": {},
   "source": [
    "python basic operations"
   ]
  },
  {
   "cell_type": "code",
   "execution_count": 2,
   "id": "5fc42f31",
   "metadata": {},
   "outputs": [
    {
     "name": "stdout",
     "output_type": "stream",
     "text": [
      "the result is 8\n"
     ]
    }
   ],
   "source": [
    "x = 2\n",
    "y = 6\n",
    "print(\"the result is\", x + y) # addition"
   ]
  },
  {
   "cell_type": "code",
   "execution_count": 5,
   "id": "a0d9e43d",
   "metadata": {},
   "outputs": [
    {
     "name": "stdout",
     "output_type": "stream",
     "text": [
      "3.0\n"
     ]
    }
   ],
   "source": [
    "x=19\n",
    "y=10\n",
    "print(x%y*3/(x-y))"
   ]
  },
  {
   "cell_type": "code",
   "execution_count": null,
   "id": "c2ae9790",
   "metadata": {},
   "outputs": [],
   "source": [
    "string operastions"
   ]
  },
  {
   "cell_type": "code",
   "execution_count": 16,
   "id": "b3f3281c",
   "metadata": {},
   "outputs": [
    {
     "data": {
      "text/plain": [
       "5"
      ]
     },
     "execution_count": 16,
     "metadata": {},
     "output_type": "execute_result"
    }
   ],
   "source": [
    "ch= 'Hello'\n",
    "len(ch)"
   ]
  },
  {
   "cell_type": "code",
   "execution_count": 15,
   "id": "ec4708c3",
   "metadata": {},
   "outputs": [
    {
     "data": {
      "text/plain": [
       "'a'"
      ]
     },
     "execution_count": 15,
     "metadata": {},
     "output_type": "execute_result"
    }
   ],
   "source": [
    "ch[3]"
   ]
  },
  {
   "cell_type": "code",
   "execution_count": 36,
   "id": "b89fd1f8",
   "metadata": {},
   "outputs": [
    {
     "data": {
      "text/plain": [
       "4"
      ]
     },
     "execution_count": 36,
     "metadata": {},
     "output_type": "execute_result"
    }
   ],
   "source": [
    "R= 'emma'\n",
    "len(R)"
   ]
  },
  {
   "cell_type": "code",
   "execution_count": 29,
   "id": "d8dfc1b3",
   "metadata": {},
   "outputs": [
    {
     "data": {
      "text/plain": [
       "'e'"
      ]
     },
     "execution_count": 29,
     "metadata": {},
     "output_type": "execute_result"
    }
   ],
   "source": [
    "R[0]"
   ]
  },
  {
   "cell_type": "code",
   "execution_count": 30,
   "id": "a765d15a",
   "metadata": {},
   "outputs": [
    {
     "data": {
      "text/plain": [
       "'a'"
      ]
     },
     "execution_count": 30,
     "metadata": {},
     "output_type": "execute_result"
    }
   ],
   "source": [
    "R[-1]"
   ]
  },
  {
   "cell_type": "code",
   "execution_count": 37,
   "id": "68ac283a",
   "metadata": {},
   "outputs": [
    {
     "name": "stdout",
     "output_type": "stream",
     "text": [
      "emma word\n"
     ]
    }
   ],
   "source": [
    "R = R +' word'\n",
    "print(R)"
   ]
  },
  {
   "cell_type": "code",
   "execution_count": 40,
   "id": "1e38344a",
   "metadata": {},
   "outputs": [
    {
     "data": {
      "text/plain": [
       "True"
      ]
     },
     "execution_count": 40,
     "metadata": {},
     "output_type": "execute_result"
    }
   ],
   "source": [
    "(1!=1)==(4>5)"
   ]
  },
  {
   "cell_type": "code",
   "execution_count": 42,
   "id": "5603ff78",
   "metadata": {},
   "outputs": [
    {
     "data": {
      "text/plain": [
       "False"
      ]
     },
     "execution_count": 42,
     "metadata": {},
     "output_type": "execute_result"
    }
   ],
   "source": [
    "(10!=5)==(10>11)"
   ]
  },
  {
   "cell_type": "code",
   "execution_count": 43,
   "id": "547e9ab4",
   "metadata": {},
   "outputs": [
    {
     "data": {
      "text/plain": [
       "True"
      ]
     },
     "execution_count": 43,
     "metadata": {},
     "output_type": "execute_result"
    }
   ],
   "source": [
    "10 >= 10"
   ]
  },
  {
   "cell_type": "code",
   "execution_count": 52,
   "id": "762581d1",
   "metadata": {},
   "outputs": [
    {
     "name": "stdout",
     "output_type": "stream",
     "text": [
      "23\n"
     ]
    }
   ],
   "source": [
    "age = 23\n",
    "age_min = 25\n",
    "if age > age_min:\n",
    "    print('the passeger survied a titanci incident')\n",
    "print(age)"
   ]
  },
  {
   "cell_type": "code",
   "execution_count": 53,
   "id": "6e547045",
   "metadata": {},
   "outputs": [
    {
     "name": "stdout",
     "output_type": "stream",
     "text": [
      "the passage has survived\n"
     ]
    }
   ],
   "source": [
    "age=40\n",
    "if age > 20 :\n",
    "    print('the passage has survived')\n",
    "elif age == 18: \n",
    "    print ('the passage had equel chances to survive')\n",
    "else :\n",
    "    print('we need more information to make a decision')"
   ]
  },
  {
   "cell_type": "code",
   "execution_count": 58,
   "id": "f9f43bcc",
   "metadata": {},
   "outputs": [
    {
     "name": "stdout",
     "output_type": "stream",
     "text": [
      "the passager survied a titianci incident\n",
      "25\n"
     ]
    }
   ],
   "source": [
    "age= 25\n",
    "age_min = 20\n",
    "if age > age_min:\n",
    "    print('the passager survied a titianci incident')\n",
    "print(age)"
   ]
  },
  {
   "cell_type": "code",
   "execution_count": 55,
   "id": "2708fa88",
   "metadata": {},
   "outputs": [
    {
     "name": "stdout",
     "output_type": "stream",
     "text": [
      "coming back soon\n"
     ]
    }
   ],
   "source": [
    "age=50\n",
    "if age > 40:\n",
    "    print('coming back soon')\n",
    "elif age ==20:\n",
    "    print('will get back to you soon')\n",
    "else :\n",
    "    print('to be continued')"
   ]
  },
  {
   "cell_type": "code",
   "execution_count": 62,
   "id": "84049897",
   "metadata": {},
   "outputs": [
    {
     "name": "stdout",
     "output_type": "stream",
     "text": [
      "age overdue\n"
     ]
    }
   ],
   "source": [
    "number=300\n",
    "if number > 120:\n",
    "    print('age overdue')\n",
    "elif number == 200:\n",
    "    print('age accurate')\n",
    "else:('not qualifiy')"
   ]
  },
  {
   "cell_type": "code",
   "execution_count": null,
   "id": "1d3d1b15",
   "metadata": {},
   "outputs": [],
   "source": []
  }
 ],
 "metadata": {
  "kernelspec": {
   "display_name": "Python 3",
   "language": "python",
   "name": "python3"
  },
  "language_info": {
   "codemirror_mode": {
    "name": "ipython",
    "version": 3
   },
   "file_extension": ".py",
   "mimetype": "text/x-python",
   "name": "python",
   "nbconvert_exporter": "python",
   "pygments_lexer": "ipython3",
   "version": "3.8.8"
  }
 },
 "nbformat": 4,
 "nbformat_minor": 5
}
